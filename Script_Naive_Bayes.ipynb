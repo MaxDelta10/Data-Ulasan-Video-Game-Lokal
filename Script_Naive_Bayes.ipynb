{
  "cells": [
    {
      "cell_type": "code",
      "execution_count": 1,
      "metadata": {
        "colab": {
          "base_uri": "https://localhost:8080/"
        },
        "id": "RaNN6uD7diET",
        "outputId": "5df2b1af-0abd-495a-9aec-e084ecf43c95"
      },
      "outputs": [
        {
          "name": "stdout",
          "output_type": "stream",
          "text": [
            "Looking in indexes: https://pypi.org/simple, https://us-python.pkg.dev/colab-wheels/public/simple/\n",
            "Requirement already satisfied: xgboost in /usr/local/lib/python3.8/dist-packages (0.90)\n",
            "Requirement already satisfied: numpy in /usr/local/lib/python3.8/dist-packages (from xgboost) (1.21.6)\n",
            "Requirement already satisfied: scipy in /usr/local/lib/python3.8/dist-packages (from xgboost) (1.7.3)\n"
          ]
        }
      ],
      "source": [
        "!pip install xgboost"
      ]
    },
    {
      "cell_type": "code",
      "execution_count": 2,
      "metadata": {
        "colab": {
          "base_uri": "https://localhost:8080/"
        },
        "id": "-4QppBA9d147",
        "outputId": "22e6b498-4669-46cc-a29a-bf61437dfa9e"
      },
      "outputs": [
        {
          "name": "stdout",
          "output_type": "stream",
          "text": [
            "Looking in indexes: https://pypi.org/simple, https://us-python.pkg.dev/colab-wheels/public/simple/\n",
            "Requirement already satisfied: joblib in /usr/local/lib/python3.8/dist-packages (1.2.0)\n"
          ]
        }
      ],
      "source": [
        "!pip install joblib"
      ]
    },
    {
      "cell_type": "code",
      "execution_count": 3,
      "metadata": {
        "colab": {
          "base_uri": "https://localhost:8080/"
        },
        "id": "X2vpBKDsfqQ3",
        "outputId": "2ed42e6f-7aff-41cd-f546-9c0346e6ad73"
      },
      "outputs": [
        {
          "name": "stdout",
          "output_type": "stream",
          "text": [
            "Looking in indexes: https://pypi.org/simple, https://us-python.pkg.dev/colab-wheels/public/simple/\n",
            "Requirement already satisfied: mlxtend in /usr/local/lib/python3.8/dist-packages (0.14.0)\n",
            "Requirement already satisfied: scikit-learn>=0.18 in /usr/local/lib/python3.8/dist-packages (from mlxtend) (1.0.2)\n",
            "Requirement already satisfied: matplotlib>=1.5.1 in /usr/local/lib/python3.8/dist-packages (from mlxtend) (3.2.2)\n",
            "Requirement already satisfied: scipy>=0.17 in /usr/local/lib/python3.8/dist-packages (from mlxtend) (1.7.3)\n",
            "Requirement already satisfied: numpy>=1.10.4 in /usr/local/lib/python3.8/dist-packages (from mlxtend) (1.21.6)\n",
            "Requirement already satisfied: setuptools in /usr/local/lib/python3.8/dist-packages (from mlxtend) (57.4.0)\n",
            "Requirement already satisfied: pandas>=0.17.1 in /usr/local/lib/python3.8/dist-packages (from mlxtend) (1.3.5)\n",
            "Requirement already satisfied: kiwisolver>=1.0.1 in /usr/local/lib/python3.8/dist-packages (from matplotlib>=1.5.1->mlxtend) (1.4.4)\n",
            "Requirement already satisfied: pyparsing!=2.0.4,!=2.1.2,!=2.1.6,>=2.0.1 in /usr/local/lib/python3.8/dist-packages (from matplotlib>=1.5.1->mlxtend) (3.0.9)\n",
            "Requirement already satisfied: python-dateutil>=2.1 in /usr/local/lib/python3.8/dist-packages (from matplotlib>=1.5.1->mlxtend) (2.8.2)\n",
            "Requirement already satisfied: cycler>=0.10 in /usr/local/lib/python3.8/dist-packages (from matplotlib>=1.5.1->mlxtend) (0.11.0)\n",
            "Requirement already satisfied: pytz>=2017.3 in /usr/local/lib/python3.8/dist-packages (from pandas>=0.17.1->mlxtend) (2022.7.1)\n",
            "Requirement already satisfied: threadpoolctl>=2.0.0 in /usr/local/lib/python3.8/dist-packages (from scikit-learn>=0.18->mlxtend) (3.1.0)\n",
            "Requirement already satisfied: joblib>=0.11 in /usr/local/lib/python3.8/dist-packages (from scikit-learn>=0.18->mlxtend) (1.2.0)\n",
            "Requirement already satisfied: six>=1.5 in /usr/local/lib/python3.8/dist-packages (from python-dateutil>=2.1->matplotlib>=1.5.1->mlxtend) (1.15.0)\n"
          ]
        }
      ],
      "source": [
        "# I changed this part\n",
        "!pip install mlxtend\n",
        "import joblib\n",
        "import sys\n",
        "sys.modules['sklearn.externals.joblib'] = joblib\n",
        "from mlxtend.feature_selection import SequentialFeatureSelector as SFS"
      ]
    },
    {
      "cell_type": "code",
      "execution_count": 2,
      "metadata": {
        "id": "ysVmUZS9diEd"
      },
      "outputs": [
        {
          "name": "stderr",
          "output_type": "stream",
          "text": [
            "e:\\Anaconda\\lib\\site-packages\\pandas\\core\\computation\\expressions.py:20: UserWarning: Pandas requires version '2.7.3' or newer of 'numexpr' (version '2.7.1' currently installed).\n",
            "  from pandas.core.computation.check import NUMEXPR_INSTALLED\n"
          ]
        }
      ],
      "source": [
        "import pandas as pd\n",
        "import numpy as np\n",
        "import string\n",
        "#from sklearn.pipeline import Pipeline\n",
        "#from sklearn.externals import joblib\n",
        "#import xgboost as xgb"
      ]
    },
    {
      "cell_type": "code",
      "execution_count": 12,
      "metadata": {
        "id": "tfvAluD3diEf"
      },
      "outputs": [],
      "source": [
        "sentimen = pd.read_csv(\"E:\\Materi Kuliah\\Tugas Akhir\\App\\Steamreviewpreprocessing.csv\", sep = \";\")"
      ]
    },
    {
      "cell_type": "code",
      "execution_count": 4,
      "metadata": {
        "colab": {
          "base_uri": "https://localhost:8080/",
          "height": 206
        },
        "id": "gSoeRAjrdiEg",
        "outputId": "a9084856-3d5f-436f-a6b6-1954cd51623d"
      },
      "outputs": [
        {
          "data": {
            "text/html": [
              "<div>\n",
              "<style scoped>\n",
              "    .dataframe tbody tr th:only-of-type {\n",
              "        vertical-align: middle;\n",
              "    }\n",
              "\n",
              "    .dataframe tbody tr th {\n",
              "        vertical-align: top;\n",
              "    }\n",
              "\n",
              "    .dataframe thead th {\n",
              "        text-align: right;\n",
              "    }\n",
              "</style>\n",
              "<table border=\"1\" class=\"dataframe\">\n",
              "  <thead>\n",
              "    <tr style=\"text-align: right;\">\n",
              "      <th></th>\n",
              "      <th>Review_Text</th>\n",
              "      <th>Review</th>\n",
              "    </tr>\n",
              "  </thead>\n",
              "  <tbody>\n",
              "    <tr>\n",
              "      <th>0</th>\n",
              "      <td>felt compel write review think game deserve on...</td>\n",
              "      <td>Recommended</td>\n",
              "    </tr>\n",
              "    <tr>\n",
              "      <th>1</th>\n",
              "      <td>sattisfied experience short awesomely great be...</td>\n",
              "      <td>Recommended</td>\n",
              "    </tr>\n",
              "    <tr>\n",
              "      <th>2</th>\n",
              "      <td>although may one graphically appeal survival h...</td>\n",
              "      <td>Recommended</td>\n",
              "    </tr>\n",
              "    <tr>\n",
              "      <th>3</th>\n",
              "      <td>dreadout indonesian survivalhorror game take i...</td>\n",
              "      <td>Recommended</td>\n",
              "    </tr>\n",
              "    <tr>\n",
              "      <th>4</th>\n",
              "      <td>scary atmosphere clever game sequence sidemiss...</td>\n",
              "      <td>Recommended</td>\n",
              "    </tr>\n",
              "  </tbody>\n",
              "</table>\n",
              "</div>"
            ],
            "text/plain": [
              "                                         Review_Text       Review\n",
              "0  felt compel write review think game deserve on...  Recommended\n",
              "1  sattisfied experience short awesomely great be...  Recommended\n",
              "2  although may one graphically appeal survival h...  Recommended\n",
              "3  dreadout indonesian survivalhorror game take i...  Recommended\n",
              "4  scary atmosphere clever game sequence sidemiss...  Recommended"
            ]
          },
          "execution_count": 4,
          "metadata": {},
          "output_type": "execute_result"
        }
      ],
      "source": [
        "sentimen.head()"
      ]
    },
    {
      "cell_type": "code",
      "execution_count": 5,
      "metadata": {
        "colab": {
          "base_uri": "https://localhost:8080/"
        },
        "id": "ui1aNpMLdiEh",
        "outputId": "a9bc80c0-fbd4-4239-c37b-32f0bb161f55"
      },
      "outputs": [
        {
          "data": {
            "text/plain": [
              "Review_Text      string\n",
              "Review         category\n",
              "dtype: object"
            ]
          },
          "execution_count": 5,
          "metadata": {},
          "output_type": "execute_result"
        }
      ],
      "source": [
        "sentimen = sentimen.astype({'Review':'category','Review_Text':'string'})\n",
        "sentimen.dtypes"
      ]
    },
    {
      "cell_type": "code",
      "execution_count": 6,
      "metadata": {
        "colab": {
          "base_uri": "https://localhost:8080/"
        },
        "id": "U6Y_DXl6diEi",
        "outputId": "006980e5-e4dc-4ed3-b877-0448a07db7b4"
      },
      "outputs": [
        {
          "data": {
            "text/plain": [
              "Recommended        10593\n",
              "Not Recommended     1642\n",
              "Name: Review, dtype: int64"
            ]
          },
          "execution_count": 6,
          "metadata": {},
          "output_type": "execute_result"
        }
      ],
      "source": [
        "sentimen['Review'].value_counts()"
      ]
    },
    {
      "cell_type": "code",
      "execution_count": 17,
      "metadata": {},
      "outputs": [
        {
          "name": "stdout",
          "output_type": "stream",
          "text": [
            "   although  appeal  aspect  atmosphere  awesomely  best  category  certainly  \\\n",
            "0         0       0       0           0          0     0         1          0   \n",
            "1         0       0       0           0          1     1         0          0   \n",
            "2         1       1       1           0          0     0         0          1   \n",
            "3         0       0       0           0          0     0         0          0   \n",
            "4         0       0       0           1          0     0         0          0   \n",
            "\n",
            "   check  clever  ...  story  survival  survivalhorror  take  thing  think  \\\n",
            "0      0       0  ...      0         0               0     0      0      1   \n",
            "1      0       0  ...      0         0               0     0      1      0   \n",
            "2      1       0  ...      0         1               0     0      0      0   \n",
            "3      0       0  ...      0         0               1     1      0      0   \n",
            "4      0       1  ...      1         0               0     0      0      0   \n",
            "\n",
            "   type  work  worth  write  \n",
            "0     0     0      0      2  \n",
            "1     1     1      0      0  \n",
            "2     0     0      1      0  \n",
            "3     0     0      0      0  \n",
            "4     0     0      0      0  \n",
            "\n",
            "[5 rows x 63 columns]\n"
          ]
        }
      ],
      "source": [
        "# Import libraries\n",
        "import pandas as pd\n",
        "from sklearn.feature_extraction.text import CountVectorizer\n",
        "\n",
        "# Sample documents\n",
        "documents = [\"felt compel write review think game deserve one consider quickly see people write include category\",\n",
        "             \"sattisfied experience short awesomely great best thing first lot type enemy respect work developer\",\n",
        "             \"although may one graphically appeal survival horror game certainly worth check right price aspect\",\n",
        "             \"dreadout indonesian survivalhorror game take inspiration fatal frame franchise pull lot indonesian\",\n",
        "             \"scary atmosphere clever game sequence sidemissions story far cliche short mediocre graphic easy get lose rating\"]\n",
        "\n",
        "# Create CountVectorizer object\n",
        "vectorizer = CountVectorizer()\n",
        "\n",
        "# Fit and transform the data\n",
        "term_frequencies = vectorizer.fit_transform(documents)\n",
        "\n",
        "# Get feature names\n",
        "feature_names = vectorizer.get_feature_names_out()\n",
        "\n",
        "# Create DataFrame of term frequencies\n",
        "df = pd.DataFrame(data=term_frequencies.toarray(), columns=feature_names)\n",
        "\n",
        "# Print results\n",
        "print(df)"
      ]
    },
    {
      "cell_type": "code",
      "execution_count": 7,
      "metadata": {
        "colab": {
          "base_uri": "https://localhost:8080/"
        },
        "id": "3SO7kCU8diEj",
        "outputId": "f5ec6a33-4d89-4057-8d68-52a495049ecb"
      },
      "outputs": [
        {
          "data": {
            "text/plain": [
              "<12235x18421 sparse matrix of type '<class 'numpy.float64'>'\n",
              "\twith 387623 stored elements in Compressed Sparse Row format>"
            ]
          },
          "execution_count": 7,
          "metadata": {},
          "output_type": "execute_result"
        }
      ],
      "source": [
        "#Proses TF.IDF\n",
        "from sklearn.feature_extraction.text import CountVectorizer\n",
        "from sklearn.feature_extraction.text import TfidfVectorizer\n",
        "\n",
        "tf = TfidfVectorizer()\n",
        "text_tf = tf.fit_transform(sentimen['Review_Text'].astype('U'))\n",
        "text_tf\n"
      ]
    },
    {
      "cell_type": "code",
      "execution_count": 13,
      "metadata": {
        "colab": {
          "base_uri": "https://localhost:8080/"
        },
        "id": "oNbfEpifdiEl",
        "outputId": "c0b7a206-2662-4c7b-bf01-980e5d28e7c1"
      },
      "outputs": [
        {
          "name": "stdout",
          "output_type": "stream",
          "text": [
            "x_train shape (9788, 18421)\n",
            "x_test shape (2447, 18421)\n"
          ]
        }
      ],
      "source": [
        "#Split Data\n",
        "from sklearn.model_selection import train_test_split\n",
        "\n",
        "x_train, x_test, y_train, y_test = train_test_split(text_tf, sentimen['Review'], test_size=0.2, random_state=0)\n",
        "\n",
        "print(f'x_train shape {x_train.shape}')\n",
        "print(f'x_test shape {x_test.shape}')"
      ]
    },
    {
      "cell_type": "code",
      "execution_count": 14,
      "metadata": {
        "colab": {
          "base_uri": "https://localhost:8080/"
        },
        "id": "JNwFiMikdiEn",
        "outputId": "fbc5ec3e-1943-4a09-ec92-c1b2da39fcbd"
      },
      "outputs": [
        {
          "name": "stdout",
          "output_type": "stream",
          "text": [
            "MultinomalNB Accuracy: 0.8606456885982836\n",
            "MultinomialNB Precision: 0.0\n",
            "MultinomialNB Recall: 0.0\n",
            "MultinomialNB f1_score: 0.0\n",
            "confusion matrix:\n",
            "[[   0  341]\n",
            " [   0 2106]]\n",
            "--------------------------------------------\n",
            "\n",
            "                 precision    recall  f1-score   support\n",
            "\n",
            "Not Recommended       0.00      0.00      0.00       341\n",
            "    Recommended       0.86      1.00      0.93      2106\n",
            "\n",
            "       accuracy                           0.86      2447\n",
            "      macro avg       0.43      0.50      0.46      2447\n",
            "   weighted avg       0.74      0.86      0.80      2447\n",
            "\n"
          ]
        },
        {
          "name": "stderr",
          "output_type": "stream",
          "text": [
            "/usr/local/lib/python3.8/dist-packages/sklearn/metrics/_classification.py:1318: UndefinedMetricWarning: Precision is ill-defined and being set to 0.0 due to no predicted samples. Use `zero_division` parameter to control this behavior.\n",
            "  _warn_prf(average, modifier, msg_start, len(result))\n"
          ]
        }
      ],
      "source": [
        "#Performa algoritma naive bayes\n",
        "from sklearn.naive_bayes import MultinomialNB\n",
        "from sklearn.metrics import accuracy_score, precision_score, recall_score, f1_score\n",
        "from sklearn.metrics import classification_report\n",
        "from sklearn.metrics import confusion_matrix\n",
        "\n",
        "clf = MultinomialNB().fit(x_train, y_train)\n",
        "predicted = clf.predict(x_test)\n",
        "print(\"MultinomalNB Accuracy:\", accuracy_score(y_test,predicted))\n",
        "print(\"MultinomialNB Precision:\", precision_score(y_test, predicted, average=\"binary\", pos_label=\"Not Recommended\"))\n",
        "print(\"MultinomialNB Recall:\", recall_score(y_test, predicted, average=\"binary\", pos_label=\"Not Recommended\"))\n",
        "print(\"MultinomialNB f1_score:\", f1_score(y_test, predicted, average=\"binary\", pos_label=\"Not Recommended\"))\n",
        "\n",
        "print(f'confusion matrix:\\n{confusion_matrix(y_test, predicted)}')\n",
        "print(\"--------------------------------------------\\n\")\n",
        "print(classification_report(y_test, predicted, zero_division=0))\n",
        "\n"
      ]
    },
    {
      "cell_type": "code",
      "execution_count": 15,
      "metadata": {
        "colab": {
          "base_uri": "https://localhost:8080/",
          "height": 317
        },
        "id": "3OSLJLp9diEq",
        "outputId": "6ac12f43-c9ed-4a48-b624-68737d63645e"
      },
      "outputs": [
        {
          "name": "stderr",
          "output_type": "stream",
          "text": [
            "<ipython-input-15-1e30d946171d>:4: RuntimeWarning: invalid value encountered in true_divide\n",
            "  sns.heatmap(result/np.sum(result, axis=0), annot = True, cmap=\"Blues\",)\n"
          ]
        },
        {
          "data": {
            "text/plain": [
              "<matplotlib.axes._subplots.AxesSubplot at 0x7f898a807760>"
            ]
          },
          "execution_count": 15,
          "metadata": {},
          "output_type": "execute_result"
        },
        {
          "data": {
            "image/png": "[encoded data removed]",
            "text/plain": [
              "<Figure size 432x288 with 2 Axes>"
            ]
          },
          "metadata": {
            "needs_background": "light"
          },
          "output_type": "display_data"
        }
      ],
      "source": [
        "import seaborn as sns\n",
        "\n",
        "result = confusion_matrix(y_test, predicted, )\n",
        "sns.heatmap(result/np.sum(result, axis=0), annot = True, cmap=\"Blues\",)"
      ]
    },
    {
      "cell_type": "code",
      "execution_count": null,
      "metadata": {
        "colab": {
          "base_uri": "https://localhost:8080/"
        },
        "id": "cGzUd0b3diEr",
        "outputId": "d14d0be4-13f5-4258-dafb-e5560fe024da"
      },
      "outputs": [
        {
          "data": {
            "text/plain": [
              "['trained_model.pkl']"
            ]
          },
          "execution_count": 23,
          "metadata": {},
          "output_type": "execute_result"
        }
      ],
      "source": [
        "# Create the classifier and train it on the training data\n",
        "clf = MultinomialNB()\n",
        "clf.fit(x_train, y_train)\n",
        "\n",
        "# Save the model\n",
        "joblib.dump(clf, 'model_training.pkl')"
      ]
    },
    {
      "cell_type": "code",
      "execution_count": null,
      "metadata": {
        "id": "8nr7u4_ediEt"
      },
      "outputs": [],
      "source": [
        "# Load a trained classifier\n",
        "clf = joblib.load('model_training.pkl')"
      ]
    },
    {
      "cell_type": "code",
      "execution_count": null,
      "metadata": {
        "colab": {
          "base_uri": "https://localhost:8080/"
        },
        "id": "Q0bHSC7UdiEu",
        "outputId": "0c67a5a2-41dc-48c0-e0fd-77042373f54a"
      },
      "outputs": [
        {
          "name": "stdout",
          "output_type": "stream",
          "text": [
            " sangat jelek\n",
            "['Recommended']\n"
          ]
        }
      ],
      "source": [
        "#Testing Data Baru\n",
        "input_text = input(' ')\n",
        "tf_input_text = tf.transform([input_text])\n",
        "\n",
        "# Predict the input text\n",
        "predicted_label = clf.predict(tf_input_text)\n",
        "print(predicted_label)\n"
      ]
    },
    {
      "cell_type": "code",
      "execution_count": 16,
      "metadata": {
        "colab": {
          "base_uri": "https://localhost:8080/"
        },
        "id": "LlGAa3yndiEx",
        "outputId": "c6701d38-6582-4164-af94-c3eb7a10672f"
      },
      "outputs": [
        {
          "name": "stdout",
          "output_type": "stream",
          "text": [
            "Looking in indexes: https://pypi.org/simple, https://us-python.pkg.dev/colab-wheels/public/simple/\n",
            "Collecting SMOTE\n",
            "  Downloading smote-0.1-py2.py3-none-any.whl (3.3 kB)\n",
            "Requirement already satisfied: numpy>=1.14.3 in /usr/local/lib/python3.8/dist-packages (from SMOTE) (1.21.6)\n",
            "Requirement already satisfied: scikit-learn>=0.19.1 in /usr/local/lib/python3.8/dist-packages (from SMOTE) (1.0.2)\n",
            "Requirement already satisfied: threadpoolctl>=2.0.0 in /usr/local/lib/python3.8/dist-packages (from scikit-learn>=0.19.1->SMOTE) (3.1.0)\n",
            "Requirement already satisfied: scipy>=1.1.0 in /usr/local/lib/python3.8/dist-packages (from scikit-learn>=0.19.1->SMOTE) (1.7.3)\n",
            "Requirement already satisfied: joblib>=0.11 in /usr/local/lib/python3.8/dist-packages (from scikit-learn>=0.19.1->SMOTE) (1.2.0)\n",
            "Installing collected packages: SMOTE\n",
            "Successfully installed SMOTE-0.1\n"
          ]
        }
      ],
      "source": [
        "!pip install SMOTE"
      ]
    },
    {
      "cell_type": "code",
      "execution_count": 17,
      "metadata": {
        "id": "i_IJZuVrdiEy"
      },
      "outputs": [],
      "source": [
        "##Oversampling\n",
        "from imblearn.over_sampling import SMOTE\n",
        "from sklearn.model_selection import train_test_split\n",
        "\n",
        "# Split the dataset into training and testing sets\n",
        "X_train, X_test, y_train, y_test = train_test_split(text_tf, sentimen['Review'], test_size=0.2, random_state=42)\n",
        "\n",
        "# Apply SMOTE to the training data\n",
        "smote = SMOTE()\n",
        "X_train, y_train = smote.fit_resample(X_train, y_train)"
      ]
    },
    {
      "cell_type": "code",
      "execution_count": 18,
      "metadata": {
        "colab": {
          "base_uri": "https://localhost:8080/"
        },
        "id": "tO2vGxBwemNq",
        "outputId": "bec432a3-5744-4b2f-db86-87edb9d1359d"
      },
      "outputs": [
        {
          "name": "stdout",
          "output_type": "stream",
          "text": [
            "MultinomalNB Accuracy: 0.8120147118921128\n",
            "MultinomialNB Precision: 0.41702127659574467\n",
            "MultinomialNB Recall: 0.8571428571428571\n",
            "MultinomialNB f1_score: 0.5610687022900763\n",
            "confusion matrix:\n",
            "[[ 294   49]\n",
            " [ 411 1693]]\n",
            "--------------------------------------------\n",
            "\n",
            "                 precision    recall  f1-score   support\n",
            "\n",
            "Not Recommended       0.42      0.86      0.56       343\n",
            "    Recommended       0.97      0.80      0.88      2104\n",
            "\n",
            "       accuracy                           0.81      2447\n",
            "      macro avg       0.69      0.83      0.72      2447\n",
            "   weighted avg       0.89      0.81      0.84      2447\n",
            "\n"
          ]
        }
      ],
      "source": [
        "#Performa algoritma naive bayes\n",
        "from sklearn.naive_bayes import MultinomialNB\n",
        "from sklearn.metrics import accuracy_score, precision_score, recall_score, f1_score\n",
        "from sklearn.metrics import classification_report\n",
        "from sklearn.metrics import confusion_matrix\n",
        "\n",
        "clf = MultinomialNB().fit(X_train, y_train)\n",
        "predicted = clf.predict(X_test)\n",
        "print(\"MultinomalNB Accuracy:\", accuracy_score(y_test,predicted))\n",
        "print(\"MultinomialNB Precision:\", precision_score(y_test, predicted, average=\"binary\", pos_label=\"Not Recommended\"))\n",
        "print(\"MultinomialNB Recall:\", recall_score(y_test, predicted, average=\"binary\", pos_label=\"Not Recommended\"))\n",
        "print(\"MultinomialNB f1_score:\", f1_score(y_test, predicted, average=\"binary\", pos_label=\"Not Recommended\"))\n",
        "\n",
        "print(f'confusion matrix:\\n{confusion_matrix(y_test, predicted)}')\n",
        "print(\"--------------------------------------------\\n\")\n",
        "print(classification_report(y_test, predicted, zero_division=0))"
      ]
    },
    {
      "cell_type": "code",
      "execution_count": 20,
      "metadata": {
        "colab": {
          "base_uri": "https://localhost:8080/",
          "height": 282
        },
        "id": "RIG4VtqMeyy2",
        "outputId": "09ba5f02-4832-4b80-891c-ab295883c2ed"
      },
      "outputs": [
        {
          "data": {
            "text/plain": [
              "<matplotlib.axes._subplots.AxesSubplot at 0x7f8986cb3610>"
            ]
          },
          "execution_count": 20,
          "metadata": {},
          "output_type": "execute_result"
        },
        {
          "data": {
            "image/png": "[encoded data removed]",
            "text/plain": [
              "<Figure size 432x288 with 2 Axes>"
            ]
          },
          "metadata": {
            "needs_background": "light"
          },
          "output_type": "display_data"
        }
      ],
      "source": [
        "import seaborn as sns\n",
        "\n",
        "result = confusion_matrix(y_test, predicted, )\n",
        "sns.heatmap(result/np.sum(result, axis=0), annot = True, cmap=\"Blues\",)"
      ]
    },
    {
      "cell_type": "code",
      "execution_count": null,
      "metadata": {
        "colab": {
          "base_uri": "https://localhost:8080/"
        },
        "id": "jqL3k0k7e9xg",
        "outputId": "d1599d9d-eefb-4701-fad3-bed8bea2a97d"
      },
      "outputs": [
        {
          "data": {
            "text/plain": [
              "['model_training.pkl']"
            ]
          },
          "execution_count": 35,
          "metadata": {},
          "output_type": "execute_result"
        }
      ],
      "source": [
        "# Create the classifier and train it on the training data\n",
        "clf = MultinomialNB()\n",
        "clf.fit(X_train, y_train)\n",
        "\n",
        "# Save the model\n",
        "joblib.dump(clf, 'trained_model.pkl')"
      ]
    },
    {
      "cell_type": "code",
      "execution_count": null,
      "metadata": {
        "id": "95ceZTsMfB8Z"
      },
      "outputs": [],
      "source": [
        "# Load a trained classifier\n",
        "clf = joblib.load('/content/trained_model.pkl')"
      ]
    },
    {
      "cell_type": "code",
      "execution_count": null,
      "metadata": {
        "colab": {
          "base_uri": "https://localhost:8080/"
        },
        "id": "xc7XAlQvfCMm",
        "outputId": "801d8f97-a187-43ce-e80a-df4535af3ab0"
      },
      "outputs": [
        {
          "name": "stdout",
          "output_type": "stream",
          "text": [
            " great game\n",
            "['Recommended']\n"
          ]
        }
      ],
      "source": [
        "#Testing Data Baru\n",
        "input_text = input(' ')\n",
        "tf_input_text = tf.transform([input_text])\n",
        "\n",
        "# Predict the input text\n",
        "predicted_label = clf.predict(tf_input_text)\n",
        "print(predicted_label)"
      ]
    }
  ],
  "metadata": {
    "colab": {
      "provenance": []
    },
    "kernelspec": {
      "display_name": "base",
      "language": "python",
      "name": "python3"
    },
    "language_info": {
      "codemirror_mode": {
        "name": "ipython",
        "version": 3
      },
      "file_extension": ".py",
      "mimetype": "text/x-python",
      "name": "python",
      "nbconvert_exporter": "python",
      "pygments_lexer": "ipython3",
      "version": "3.8.5"
    },
    "orig_nbformat": 4,
    "vscode": {
      "interpreter": {
        "hash": "91bb753b057673435fb8d6f6a083e6c818364728098c7ae050ca3a25357dd754"
      }
    }
  },
  "nbformat": 4,
  "nbformat_minor": 0
}
