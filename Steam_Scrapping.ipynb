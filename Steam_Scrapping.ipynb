{
 "cells": [
  {
   "cell_type": "code",
   "execution_count": 297,
   "metadata": {},
   "outputs": [],
   "source": [
    "#pip install msedge-selenium-tools selenium==3.141"
   ]
  },
  {
   "cell_type": "code",
   "execution_count": 298,
   "metadata": {},
   "outputs": [],
   "source": [
    "from selenium import webdriver\n",
    "from selenium.webdriver.chrome.options import Options\n",
    "import re\n",
    "from time import sleep\n",
    "from datetime import datetime\n",
    "from openpyxl import Workbook\n",
    "import csv"
   ]
  },
  {
   "cell_type": "code",
   "execution_count": 299,
   "metadata": {},
   "outputs": [],
   "source": [
    "# star wars: squadrons (269790)\n",
    "# scrap mechanic (387990)\n",
    "game_id = 656970"
   ]
  },
  {
   "cell_type": "code",
   "execution_count": 300,
   "metadata": {},
   "outputs": [],
   "source": [
    "template = 'https://steamcommunity.com/app/{}/reviews?p=1&browsefilter=toprated'\n",
    "template_with_language = 'https://steamcommunity.com/app/{}/reviews?p=1&browsefilter=toprated&filterLanguage=english'\n",
    "\n",
    "url = template.format(game_id)"
   ]
  },
  {
   "cell_type": "code",
   "execution_count": 301,
   "metadata": {},
   "outputs": [],
   "source": [
    "# setup driver\n",
    "options = Options()\n",
    "options.use_chromium = True\n",
    "driver = webdriver.Chrome(options=options)"
   ]
  },
  {
   "cell_type": "code",
   "execution_count": 302,
   "metadata": {},
   "outputs": [],
   "source": [
    "driver.maximize_window()\n",
    "driver.get(url)"
   ]
  },
  {
   "cell_type": "code",
   "execution_count": 303,
   "metadata": {},
   "outputs": [],
   "source": [
    "# get current position of y scrollbar\n",
    "last_position = driver.execute_script(\"return window.pageYOffset;\")\n",
    "\n",
    "reviews = []\n",
    "review_ids = set()\n",
    "running = True\n",
    "\n",
    "while running:\n",
    "    # get cards on the page\n",
    "    cards = driver.find_elements_by_class_name('apphub_Card')\n",
    "\n",
    "    for card in cards[-20:]:  # only the tail end are new cards\n",
    "\n",
    "        # gamer profile url\n",
    "        profile_url = card.find_element_by_xpath('.//div[@class=\"apphub_friend_block\"]/div/a[2]').get_attribute('href')\n",
    "\n",
    "        # steam id\n",
    "        steam_id = profile_url.split('/')[-2]\n",
    "        \n",
    "        # check to see if I've already collected this review\n",
    "        if steam_id in review_ids:\n",
    "            continue\n",
    "        else:\n",
    "            review_ids.add(steam_id)\n",
    "\n",
    "        # username\n",
    "        user_name = card.find_element_by_xpath('.//div[@class=\"apphub_friend_block\"]/div/a[2]').text\n",
    "\n",
    "        # language of the review\n",
    "        date_posted = card.find_element_by_xpath('.//div[@class=\"apphub_CardTextContent\"]/div').text\n",
    "        review_content = card.find_element_by_xpath('.//div[@class=\"apphub_CardTextContent\"]').text.replace(date_posted,'').strip()    \n",
    "\n",
    "        # review length\n",
    "        review_length = len(review_content.replace(' ', ''))    \n",
    "\n",
    "        # recommendation\n",
    "        thumb_text = card.find_element_by_xpath('.//div[@class=\"reviewInfo\"]/div[2]').text\n",
    "        thumb_text    \n",
    "\n",
    "        # amount of play hours\n",
    "        play_hours = card.find_element_by_xpath('.//div[@class=\"reviewInfo\"]/div[3]').text\n",
    "        play_hours    \n",
    "\n",
    "        # save review\n",
    "        review = (steam_id, profile_url, review_content, thumb_text, review_length, play_hours, date_posted)\n",
    "        reviews.append(review)    \n",
    "        \n",
    "    # attempt to scroll down thrice.. then break\n",
    "    scroll_attempt = 0\n",
    "    while True:\n",
    "        driver.execute_script(\"window.scrollTo(0, document.body.scrollHeight);\")    \n",
    "        sleep(0.5)\n",
    "        curr_position = driver.execute_script(\"return window.pageYOffset;\")\n",
    "        \n",
    "        if curr_position == last_position:\n",
    "            scroll_attempt += 1\n",
    "            sleep(0.5)\n",
    "            \n",
    "            if scroll_attempt >= 30:\n",
    "                running = False\n",
    "                break\n",
    "        else:\n",
    "            last_position = curr_position\n",
    "            break  # continue scraping the results\n",
    "\n",
    "# shutdown the web driver\n",
    "driver.close()"
   ]
  },
  {
   "cell_type": "code",
   "execution_count": 304,
   "metadata": {},
   "outputs": [],
   "source": [
    "# save the file to Excel Worksheet\n",
    "wb = Workbook()\n",
    "ws = wb.worksheets[0]\n",
    "ws.append(['SteamId', 'ProfileURL', 'ReviewText', 'Review', 'ReviewLength(Chars)', 'PlayHours', 'DatePosted'])\n",
    "for row in reviews:\n",
    "    ws.append(row)\n",
    "    \n",
    "today = datetime.today().strftime('%Y%m%d')    \n",
    "wb.save(f'Steam_Reviews_{game_id}_{today}.xlsx')    \n",
    "wb.close()"
   ]
  },
  {
   "cell_type": "code",
   "execution_count": 305,
   "metadata": {},
   "outputs": [],
   "source": [
    "# save the file to a CSV file\n",
    "today = datetime.today().strftime('%Y%m%d')   \n",
    "with open(f'Steam_Reviews_{game_id}_{today}.csv', 'w', newline='', encoding='utf-8') as f:\n",
    "    writer = csv.writer(f)\n",
    "    writer.writerow(['SteamId', 'ProfileURL', 'ReviewText', 'Review', 'ReviewLength(Chars)', 'PlayHours', 'DatePosted'])\n",
    "    writer.writerows(reviews)"
   ]
  }
 ],
 "metadata": {
  "kernelspec": {
   "display_name": "base",
   "language": "python",
   "name": "python3"
  },
  "language_info": {
   "codemirror_mode": {
    "name": "ipython",
    "version": 3
   },
   "file_extension": ".py",
   "mimetype": "text/x-python",
   "name": "python",
   "nbconvert_exporter": "python",
   "pygments_lexer": "ipython3",
   "version": "3.8.5 (default, Sep  3 2020, 21:29:08) [MSC v.1916 64 bit (AMD64)]"
  },
  "orig_nbformat": 4,
  "vscode": {
   "interpreter": {
    "hash": "91bb753b057673435fb8d6f6a083e6c818364728098c7ae050ca3a25357dd754"
   }
  }
 },
 "nbformat": 4,
 "nbformat_minor": 2
}
